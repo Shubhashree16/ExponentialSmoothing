{
 "cells": [
  {
   "cell_type": "code",
   "execution_count": 8,
   "metadata": {},
   "outputs": [],
   "source": [
    "# Loading libraries\n",
    "import pandas as pd\n",
    "import numpy as np\n",
    "import matplotlib.pyplot as plt"
   ]
  },
  {
   "cell_type": "code",
   "execution_count": 14,
   "metadata": {},
   "outputs": [],
   "source": [
    "from statsmodels.tsa.holtwinters import ExponentialSmoothing"
   ]
  },
  {
   "cell_type": "code",
   "execution_count": 10,
   "metadata": {},
   "outputs": [],
   "source": [
    "# reading data\n",
    "data = pd.read_csv(\"E:\\\\! Term 2\\\\ECM\\\\session3- DES TES\\\\seriesseasonal.csv\")"
   ]
  },
  {
   "cell_type": "code",
   "execution_count": 11,
   "metadata": {},
   "outputs": [
    {
     "data": {
      "text/html": [
       "<div>\n",
       "<style scoped>\n",
       "    .dataframe tbody tr th:only-of-type {\n",
       "        vertical-align: middle;\n",
       "    }\n",
       "\n",
       "    .dataframe tbody tr th {\n",
       "        vertical-align: top;\n",
       "    }\n",
       "\n",
       "    .dataframe thead th {\n",
       "        text-align: right;\n",
       "    }\n",
       "</style>\n",
       "<table border=\"1\" class=\"dataframe\">\n",
       "  <thead>\n",
       "    <tr style=\"text-align: right;\">\n",
       "      <th></th>\n",
       "      <th>qtr</th>\n",
       "      <th>t</th>\n",
       "      <th>y</th>\n",
       "    </tr>\n",
       "  </thead>\n",
       "  <tbody>\n",
       "    <tr>\n",
       "      <th>0</th>\n",
       "      <td>10 Q1</td>\n",
       "      <td>1</td>\n",
       "      <td>10</td>\n",
       "    </tr>\n",
       "    <tr>\n",
       "      <th>1</th>\n",
       "      <td>10 Q2</td>\n",
       "      <td>2</td>\n",
       "      <td>14</td>\n",
       "    </tr>\n",
       "    <tr>\n",
       "      <th>2</th>\n",
       "      <td>10 Q3</td>\n",
       "      <td>3</td>\n",
       "      <td>8</td>\n",
       "    </tr>\n",
       "  </tbody>\n",
       "</table>\n",
       "</div>"
      ],
      "text/plain": [
       "     qtr  t   y\n",
       "0  10 Q1  1  10\n",
       "1  10 Q2  2  14\n",
       "2  10 Q3  3   8"
      ]
     },
     "execution_count": 11,
     "metadata": {},
     "output_type": "execute_result"
    }
   ],
   "source": [
    "data.head(3)"
   ]
  },
  {
   "cell_type": "code",
   "execution_count": 13,
   "metadata": {},
   "outputs": [],
   "source": [
    "# train-test split(splitting with a fixed data split as it cannot be random in time series)\n",
    "train = data.iloc[0:10]\n",
    "test = data.iloc[10:]\n",
    "y = test.copy()"
   ]
  },
  {
   "cell_type": "code",
   "execution_count": 26,
   "metadata": {},
   "outputs": [],
   "source": [
    "# Fitting model with Additive trend\n",
    "model_a = ExponentialSmoothing(np.asarray(train['y']),\n",
    "                            seasonal_periods=4, trend='add',\n",
    "                            seasonal='add')"
   ]
  },
  {
   "cell_type": "code",
   "execution_count": 35,
   "metadata": {},
   "outputs": [],
   "source": [
    "tes_a = model_a.fit(smoothing_level=0.015532, smoothing_slope=1, smoothing_seasonal=0.23088, optimized=False)"
   ]
  },
  {
   "cell_type": "code",
   "execution_count": 41,
   "metadata": {},
   "outputs": [
    {
     "data": {
      "text/html": [
       "<div>\n",
       "<style scoped>\n",
       "    .dataframe tbody tr th:only-of-type {\n",
       "        vertical-align: middle;\n",
       "    }\n",
       "\n",
       "    .dataframe tbody tr th {\n",
       "        vertical-align: top;\n",
       "    }\n",
       "\n",
       "    .dataframe thead th {\n",
       "        text-align: right;\n",
       "    }\n",
       "</style>\n",
       "<table border=\"1\" class=\"dataframe\">\n",
       "  <thead>\n",
       "    <tr style=\"text-align: right;\">\n",
       "      <th></th>\n",
       "      <th>qtr</th>\n",
       "      <th>t</th>\n",
       "      <th>y</th>\n",
       "      <th>pred_a</th>\n",
       "    </tr>\n",
       "  </thead>\n",
       "  <tbody>\n",
       "    <tr>\n",
       "      <th>10</th>\n",
       "      <td>12 Q3</td>\n",
       "      <td>11</td>\n",
       "      <td>18</td>\n",
       "      <td>22.641838</td>\n",
       "    </tr>\n",
       "    <tr>\n",
       "      <th>11</th>\n",
       "      <td>12 Q4</td>\n",
       "      <td>12</td>\n",
       "      <td>40</td>\n",
       "      <td>41.252229</td>\n",
       "    </tr>\n",
       "    <tr>\n",
       "      <th>12</th>\n",
       "      <td>13 Q1</td>\n",
       "      <td>13</td>\n",
       "      <td>28</td>\n",
       "      <td>26.612226</td>\n",
       "    </tr>\n",
       "    <tr>\n",
       "      <th>13</th>\n",
       "      <td>13 Q2</td>\n",
       "      <td>14</td>\n",
       "      <td>40</td>\n",
       "      <td>33.662740</td>\n",
       "    </tr>\n",
       "    <tr>\n",
       "      <th>14</th>\n",
       "      <td>13 Q3</td>\n",
       "      <td>15</td>\n",
       "      <td>25</td>\n",
       "      <td>27.841380</td>\n",
       "    </tr>\n",
       "    <tr>\n",
       "      <th>15</th>\n",
       "      <td>13 Q4</td>\n",
       "      <td>16</td>\n",
       "      <td>65</td>\n",
       "      <td>46.451771</td>\n",
       "    </tr>\n",
       "  </tbody>\n",
       "</table>\n",
       "</div>"
      ],
      "text/plain": [
       "      qtr   t   y     pred_a\n",
       "10  12 Q3  11  18  22.641838\n",
       "11  12 Q4  12  40  41.252229\n",
       "12  13 Q1  13  28  26.612226\n",
       "13  13 Q2  14  40  33.662740\n",
       "14  13 Q3  15  25  27.841380\n",
       "15  13 Q4  16  65  46.451771"
      ]
     },
     "execution_count": 41,
     "metadata": {},
     "output_type": "execute_result"
    }
   ],
   "source": [
    "# Predicted and stored into dataframe in column 'pred_a'\n",
    "y['pred_a'] = tes_a.forecast(len(test))\n",
    "y "
   ]
  },
  {
   "cell_type": "code",
   "execution_count": 37,
   "metadata": {},
   "outputs": [
    {
     "data": {
      "image/png": "[encoded data removed]",
      "text/plain": [
       "<Figure size 720x216 with 1 Axes>"
      ]
     },
     "metadata": {},
     "output_type": "display_data"
    }
   ],
   "source": [
    "# Plotting predicted values of additive trend\n",
    "plt.figure(figsize=(10,3))\n",
    "plt.plot(train['y'], label='train')\n",
    "plt.plot(test['y'], label='test')\n",
    "plt.plot(y['pred_a'], label='predicted')\n",
    "plt.legend(loc='best')\n",
    "plt.show()"
   ]
  },
  {
   "cell_type": "code",
   "execution_count": 42,
   "metadata": {},
   "outputs": [],
   "source": [
    "# Fitting a model with Multiplicative trend\n",
    "model_m = ExponentialSmoothing(np.asarray(train['y']),\n",
    "                            seasonal_periods=4, trend='add',\n",
    "                            seasonal='mul')"
   ]
  },
  {
   "cell_type": "code",
   "execution_count": 29,
   "metadata": {},
   "outputs": [],
   "source": [
    "tes_m = model_m.fit(smoothing_level=0.5, smoothing_slope=0.5, smoothing_seasonal=0.5, optimized=False)"
   ]
  },
  {
   "cell_type": "code",
   "execution_count": 43,
   "metadata": {},
   "outputs": [
    {
     "data": {
      "text/html": [
       "<div>\n",
       "<style scoped>\n",
       "    .dataframe tbody tr th:only-of-type {\n",
       "        vertical-align: middle;\n",
       "    }\n",
       "\n",
       "    .dataframe tbody tr th {\n",
       "        vertical-align: top;\n",
       "    }\n",
       "\n",
       "    .dataframe thead th {\n",
       "        text-align: right;\n",
       "    }\n",
       "</style>\n",
       "<table border=\"1\" class=\"dataframe\">\n",
       "  <thead>\n",
       "    <tr style=\"text-align: right;\">\n",
       "      <th></th>\n",
       "      <th>qtr</th>\n",
       "      <th>t</th>\n",
       "      <th>y</th>\n",
       "      <th>pred_a</th>\n",
       "      <th>pred_m</th>\n",
       "    </tr>\n",
       "  </thead>\n",
       "  <tbody>\n",
       "    <tr>\n",
       "      <th>10</th>\n",
       "      <td>12 Q3</td>\n",
       "      <td>11</td>\n",
       "      <td>18</td>\n",
       "      <td>22.641838</td>\n",
       "      <td>13.339897</td>\n",
       "    </tr>\n",
       "    <tr>\n",
       "      <th>11</th>\n",
       "      <td>12 Q4</td>\n",
       "      <td>12</td>\n",
       "      <td>40</td>\n",
       "      <td>41.252229</td>\n",
       "      <td>36.937301</td>\n",
       "    </tr>\n",
       "    <tr>\n",
       "      <th>12</th>\n",
       "      <td>13 Q1</td>\n",
       "      <td>13</td>\n",
       "      <td>28</td>\n",
       "      <td>26.612226</td>\n",
       "      <td>19.057903</td>\n",
       "    </tr>\n",
       "    <tr>\n",
       "      <th>13</th>\n",
       "      <td>13 Q2</td>\n",
       "      <td>14</td>\n",
       "      <td>40</td>\n",
       "      <td>33.662740</td>\n",
       "      <td>25.980640</td>\n",
       "    </tr>\n",
       "    <tr>\n",
       "      <th>14</th>\n",
       "      <td>13 Q3</td>\n",
       "      <td>15</td>\n",
       "      <td>25</td>\n",
       "      <td>27.841380</td>\n",
       "      <td>14.839565</td>\n",
       "    </tr>\n",
       "    <tr>\n",
       "      <th>15</th>\n",
       "      <td>13 Q4</td>\n",
       "      <td>16</td>\n",
       "      <td>65</td>\n",
       "      <td>46.451771</td>\n",
       "      <td>40.976269</td>\n",
       "    </tr>\n",
       "  </tbody>\n",
       "</table>\n",
       "</div>"
      ],
      "text/plain": [
       "      qtr   t   y     pred_a     pred_m\n",
       "10  12 Q3  11  18  22.641838  13.339897\n",
       "11  12 Q4  12  40  41.252229  36.937301\n",
       "12  13 Q1  13  28  26.612226  19.057903\n",
       "13  13 Q2  14  40  33.662740  25.980640\n",
       "14  13 Q3  15  25  27.841380  14.839565\n",
       "15  13 Q4  16  65  46.451771  40.976269"
      ]
     },
     "execution_count": 43,
     "metadata": {},
     "output_type": "execute_result"
    }
   ],
   "source": [
    "# Predicted and stored into dataframe in column 'pred_a'\n",
    "y['pred_m'] = tes_m.forecast(len(test))\n",
    "y"
   ]
  },
  {
   "cell_type": "code",
   "execution_count": 44,
   "metadata": {},
   "outputs": [
    {
     "data": {
      "image/png": "[encoded data removed]",
      "text/plain": [
       "<Figure size 720x216 with 1 Axes>"
      ]
     },
     "metadata": {},
     "output_type": "display_data"
    }
   ],
   "source": [
    "# Plotting predicted values of multiplicative trend\n",
    "plt.figure(figsize=(10,3))\n",
    "plt.plot(train['y'], label='train')\n",
    "plt.plot(test['y'], label='test')\n",
    "plt.plot(y['pred_m'], label='predicted')\n",
    "plt.legend(loc='best')\n",
    "plt.show()"
   ]
  }
 ],
 "metadata": {
  "kernelspec": {
   "display_name": "Python 3",
   "language": "python",
   "name": "python3"
  },
  "language_info": {
   "codemirror_mode": {
    "name": "ipython",
    "version": 3
   },
   "file_extension": ".py",
   "mimetype": "text/x-python",
   "name": "python",
   "nbconvert_exporter": "python",
   "pygments_lexer": "ipython3",
   "version": "3.7.3"
  }
 },
 "nbformat": 4,
 "nbformat_minor": 2
}
